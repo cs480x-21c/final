{
 "cells": [
  {
   "cell_type": "code",
   "execution_count": 21,
   "metadata": {},
   "outputs": [],
   "source": [
    "import pandas as pd"
   ]
  },
  {
   "cell_type": "code",
   "execution_count": 22,
   "metadata": {},
   "outputs": [],
   "source": [
    "ch_embeddings = pd.read_csv('data/CerebellarHem_embeddings.txt')\n",
    "ch_expression = pd.read_csv('data/CerebellarHem_expression.txt')\n",
    "fc_embeddings = pd.read_csv('data/FrontalCortex_embeddings.txt')\n",
    "fc_expression = pd.read_csv('data/FrontalCortex_expression.txt')\n",
    "vc_embeddings = pd.read_csv('data/VisualCortex_embeddings.txt')\n",
    "vc_expression = pd.read_csv('data/VisualCortex_expression.txt')"
   ]
  },
  {
   "cell_type": "code",
   "execution_count": 23,
   "metadata": {},
   "outputs": [],
   "source": [
    "ch = pd.merge(ch_embeddings, ch_expression, on=\"barcode\")\n",
    "fc = pd.merge(fc_embeddings, fc_expression, on=\"barcode\")\n",
    "vc = pd.merge(vc_embeddings, vc_expression, on=\"barcode\")"
   ]
  },
  {
   "cell_type": "code",
   "execution_count": 24,
   "metadata": {},
   "outputs": [],
   "source": [
    "ch['brain_region'] = 'CerebellarHem'\n",
    "fc['brain_region'] = 'FrontalCortex'\n",
    "vc['brain_region'] = 'VisualCortex'"
   ]
  },
  {
   "cell_type": "code",
   "execution_count": 25,
   "metadata": {},
   "outputs": [],
   "source": [
    "data = pd.concat([ch,fc,vc])"
   ]
  },
  {
   "cell_type": "code",
   "execution_count": 38,
   "metadata": {},
   "outputs": [],
   "source": [
    "data.to_csv('data/combined.csv')"
   ]
  }
 ],
 "metadata": {
  "kernelspec": {
   "display_name": "Python 3",
   "language": "python",
   "name": "python3"
  },
  "language_info": {
   "codemirror_mode": {
    "name": "ipython",
    "version": 3
   },
   "file_extension": ".py",
   "mimetype": "text/x-python",
   "name": "python",
   "nbconvert_exporter": "python",
   "pygments_lexer": "ipython3",
   "version": "3.7.9"
  }
 },
 "nbformat": 4,
 "nbformat_minor": 4
}
