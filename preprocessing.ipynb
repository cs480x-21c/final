{
 "cells": [
  {
   "cell_type": "code",
   "execution_count": 1,
   "metadata": {},
   "outputs": [],
   "source": [
    "import pandas as pd"
   ]
  },
  {
   "cell_type": "markdown",
   "metadata": {},
   "source": [
    "# Combine region + expression/embedding CSVs"
   ]
  },
  {
   "cell_type": "code",
   "execution_count": 2,
   "metadata": {},
   "outputs": [],
   "source": [
    "ch_embeddings = pd.read_csv('data/CerebellarHem_embeddings.txt')\n",
    "ch_expression = pd.read_csv('data/CerebellarHem_expression.txt')\n",
    "fc_embeddings = pd.read_csv('data/FrontalCortex_embeddings.txt')\n",
    "fc_expression = pd.read_csv('data/FrontalCortex_expression.txt')\n",
    "vc_embeddings = pd.read_csv('data/VisualCortex_embeddings.txt')\n",
    "vc_expression = pd.read_csv('data/VisualCortex_expression.txt')"
   ]
  },
  {
   "cell_type": "code",
   "execution_count": 3,
   "metadata": {},
   "outputs": [],
   "source": [
    "ch = pd.merge(ch_embeddings, ch_expression, on=\"barcode\")\n",
    "fc = pd.merge(fc_embeddings, fc_expression, on=\"barcode\")\n",
    "vc = pd.merge(vc_embeddings, vc_expression, on=\"barcode\")"
   ]
  },
  {
   "cell_type": "code",
   "execution_count": 4,
   "metadata": {},
   "outputs": [],
   "source": [
    "ch['brain_region'] = 'CerebellarHem'\n",
    "fc['brain_region'] = 'FrontalCortex'\n",
    "vc['brain_region'] = 'VisualCortex'"
   ]
  },
  {
   "cell_type": "code",
   "execution_count": 5,
   "metadata": {},
   "outputs": [],
   "source": [
    "data = pd.concat([ch,fc,vc])"
   ]
  },
  {
   "cell_type": "markdown",
   "metadata": {},
   "source": [
    "# Add corresponding cell names and marker genes"
   ]
  },
  {
   "cell_type": "code",
   "execution_count": 6,
   "metadata": {},
   "outputs": [
    {
     "name": "stderr",
     "output_type": "stream",
     "text": [
      "C:\\Users\\lover\\anaconda3\\lib\\site-packages\\ipykernel_launcher.py:1: ParserWarning: Falling back to the 'python' engine because the 'c' engine does not support regex separators (separators > 1 char and different from '\\s+' are interpreted as regex); you can avoid this warning by specifying engine='python'.\n",
      "  \"\"\"Entry point for launching an IPython kernel.\n"
     ]
    }
   ],
   "source": [
    "df = pd.read_csv('data/celltypedictionary.txt', sep = ',\\'')"
   ]
  },
  {
   "cell_type": "code",
   "execution_count": 7,
   "metadata": {},
   "outputs": [],
   "source": [
    "df = df.rename(columns={\"'Clusternum'\": \"celltype\", \n",
    "                        \"brainregion'\": \"brain_region\", \n",
    "                        \"cellname'\":'cell_name',\n",
    "                        \"markergenes'\":'marker_genes'})"
   ]
  },
  {
   "cell_type": "code",
   "execution_count": 8,
   "metadata": {
    "scrolled": true
   },
   "outputs": [],
   "source": [
    "for i, r in df.iterrows():\n",
    "    df.loc[i, 'brain_region'] = r['brain_region'].strip('\\'')\n",
    "    df.loc[i, 'cell_name'] = r['cell_name'].strip(',').strip('\\'')\n",
    "    if r['marker_genes'] != None:\n",
    "        df.at[i, 'marker_genes'] = r['marker_genes'].strip('\\'').split(',')"
   ]
  },
  {
   "cell_type": "code",
   "execution_count": 9,
   "metadata": {},
   "outputs": [],
   "source": [
    "result = pd.merge(data, df, how=\"outer\", on=[\"brain_region\", \"celltype\"])"
   ]
  },
  {
   "cell_type": "code",
   "execution_count": 10,
   "metadata": {
    "scrolled": true
   },
   "outputs": [],
   "source": [
    "result.to_csv(\"data/combined.csv\")"
   ]
  }
 ],
 "metadata": {
  "kernelspec": {
   "display_name": "Python 3",
   "language": "python",
   "name": "python3"
  },
  "language_info": {
   "codemirror_mode": {
    "name": "ipython",
    "version": 3
   },
   "file_extension": ".py",
   "mimetype": "text/x-python",
   "name": "python",
   "nbconvert_exporter": "python",
   "pygments_lexer": "ipython3",
   "version": "3.7.9"
  }
 },
 "nbformat": 4,
 "nbformat_minor": 4
}
